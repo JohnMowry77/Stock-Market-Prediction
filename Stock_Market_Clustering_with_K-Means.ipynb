{
 "cells": [
  {
   "cell_type": "code",
   "execution_count": 117,
   "metadata": {},
   "outputs": [],
   "source": [
    "import pandas_datareader.data as web\n",
    "from matplotlib import pyplot as plt\n",
    "import pandas as pd\n",
    "import numpy as np\n",
    "import datetime"
   ]
  },
  {
   "cell_type": "code",
   "execution_count": 145,
   "metadata": {},
   "outputs": [],
   "source": [
    "# define instruments to download\n",
    "companies_dict = {\n",
    " 'Amazon': 'AMZN',\n",
    " 'Apple': 'AAPL',\n",
    " 'Walgreen': 'WBA',\n",
    " 'Northrop Grumman': 'NOC',\n",
    " 'Boeing': 'BA',\n",
    " 'Lockheed Martin':'LMT',\n",
    " 'McDonalds': 'MCD',\n",
    " 'Intel': 'INTC',\n",
    " 'Navistar': 'NAV',\n",
    " 'IBM': 'IBM',\n",
    " 'Texas Instruments': 'TXN',\n",
    " 'MasterCard': 'MA',\n",
    " 'Microsoft': 'MSFT',\n",
    " 'General Electric': 'GE',\n",
    " 'Alphabet Inc. (Class C)': 'GOOG',\n",
    " 'American Express': 'AXP',\n",
    " 'Pepsi': 'PEP',\n",
    " 'Coca Cola': 'KO',\n",
    " 'Johnson & Johnson': 'JNJ',\n",
    " 'Toyota': 'TM',\n",
    " 'Honda': 'HMC',\n",
    " 'Amgen Inc.': 'AMGN'\n",
    "}\n",
    "\n",
    "companies = sorted(companies_dict.items(), key=lambda x: x[1])"
   ]
  },
  {
   "cell_type": "code",
   "execution_count": 146,
   "metadata": {},
   "outputs": [],
   "source": [
    "# import pandas as pd\n",
    "# df=pd.read_csv('SP500_List.csv')\n",
    "\n",
    "# localhost:5000/volatility_score?basket=AAPL, TSLA, BA"
   ]
  },
  {
   "cell_type": "code",
   "execution_count": 147,
   "metadata": {},
   "outputs": [],
   "source": [
    "# df[df['GICS Sector']=='Industrials']['Symbol']"
   ]
  },
  {
   "cell_type": "code",
   "execution_count": 148,
   "metadata": {},
   "outputs": [
    {
     "name": "stdout",
     "output_type": "stream",
     "text": [
      "[DatetimeIndex(['2018-05-21', '2018-05-22', '2018-05-23', '2018-05-24',\n",
      "               '2018-05-25', '2018-05-29', '2018-05-30', '2018-05-31',\n",
      "               '2018-06-01', '2018-06-04',\n",
      "               ...\n",
      "               '2021-05-07', '2021-05-10', '2021-05-11', '2021-05-12',\n",
      "               '2021-05-13', '2021-05-14', '2021-05-17', '2021-05-18',\n",
      "               '2021-05-19', '2021-05-20'],\n",
      "              dtype='datetime64[ns]', name='Date', length=756, freq=None), MultiIndex([('Adj Close', 'AMZN'),\n",
      "            ('Adj Close', 'AAPL'),\n",
      "            ('Adj Close',  'WBA'),\n",
      "            ('Adj Close',  'NOC'),\n",
      "            ('Adj Close',   'BA'),\n",
      "            ('Adj Close',  'LMT'),\n",
      "            ('Adj Close',  'MCD'),\n",
      "            ('Adj Close', 'INTC'),\n",
      "            ('Adj Close',  'NAV'),\n",
      "            ('Adj Close',  'IBM'),\n",
      "            ...\n",
      "            (   'Volume', 'MSFT'),\n",
      "            (   'Volume',   'GE'),\n",
      "            (   'Volume', 'GOOG'),\n",
      "            (   'Volume',  'AXP'),\n",
      "            (   'Volume',  'PEP'),\n",
      "            (   'Volume',   'KO'),\n",
      "            (   'Volume',  'JNJ'),\n",
      "            (   'Volume',   'TM'),\n",
      "            (   'Volume',  'HMC'),\n",
      "            (   'Volume', 'AMGN')],\n",
      "           names=['Attributes', 'Symbols'], length=132)]\n"
     ]
    }
   ],
   "source": [
    "# Define which online source to use\n",
    "data_source = 'yahoo'\n",
    "\n",
    "# define start and end dates\n",
    "start_date = '2018-05-20'\n",
    "end_date = '2021-05-20'\n",
    "\n",
    "# Use pandas_datareader.data.DataReader to load the desired data list(companies_dict.values()) used for python 3 compatibility\n",
    "panel_data = web.DataReader(list(companies_dict.values()), data_source, start_date, end_date)\n",
    "\n",
    "print(panel_data.axes)"
   ]
  },
  {
   "cell_type": "code",
   "execution_count": 149,
   "metadata": {},
   "outputs": [
    {
     "name": "stdout",
     "output_type": "stream",
     "text": [
      "Symbols\n",
      "AMZN    1585.459961\n",
      "AAPL      46.907501\n",
      "WBA       64.500000\n",
      "NOC      331.359985\n",
      "BA       363.920013\n",
      "LMT      324.279999\n",
      "MCD      161.479996\n",
      "INTC      54.320000\n",
      "NAV       40.270000\n",
      "IBM      145.490005\n",
      "TXN      110.410004\n",
      "MA       191.199997\n",
      "MSFT      97.599998\n",
      "GE        14.673077\n",
      "GOOG    1079.579956\n",
      "AXP      102.040001\n",
      "PEP       99.510002\n",
      "KO        42.410000\n",
      "JNJ      123.720001\n",
      "TM       136.449997\n",
      "HMC       33.240002\n",
      "AMGN     176.470001\n",
      "Name: 2018-05-21 00:00:00, dtype: float64\n"
     ]
    }
   ],
   "source": [
    "# Find Stock Open and Close Values\n",
    "stock_close = panel_data['Close']\n",
    "stock_open = panel_data['Open']\n",
    "\n",
    "\n",
    "# df=panel_data.dropna()\n",
    "# df=panel_data.isnull()\n",
    "\n",
    "# print(stock_close)\n",
    "print(stock_close.iloc[0])\n",
    "# print(df)"
   ]
  },
  {
   "cell_type": "code",
   "execution_count": 150,
   "metadata": {},
   "outputs": [],
   "source": [
    "# Calculate daily stock movement\n",
    "stock_close = np.array(stock_close).T\n",
    "stock_open = np.array(stock_open).T\n",
    "\n",
    "row, col = stock_close.shape\n",
    "\n",
    "# create movements dataset filled with 0's\n",
    "movements = np.zeros([row, col])\n",
    "\n",
    "for i in range(0, row):\n",
    " movements[i,:] = np.subtract(stock_close[i,:], stock_open[i,:])"
   ]
  },
  {
   "cell_type": "code",
   "execution_count": 151,
   "metadata": {},
   "outputs": [
    {
     "name": "stdout",
     "output_type": "stream",
     "text": [
      "Company: Apple, Change: -893.142822265625\n",
      "Company: Amgen Inc., Change: 25.352386474609375\n",
      "Company: Amazon, Change: -5.609962463378906\n",
      "Company: American Express, Change: -33.1900634765625\n",
      "Company: Boeing, Change: -254.62032318115234\n",
      "Company: General Electric, Change: -84.95919799804688\n",
      "Company: Alphabet Inc. (Class C), Change: 14.800262451171875\n",
      "Company: Honda, Change: 18.759937286376953\n",
      "Company: IBM, Change: -30.75999355316162\n",
      "Company: Intel, Change: 2.590179443359375\n",
      "Company: Johnson & Johnson, Change: 40.990020751953125\n",
      "Company: Coca Cola, Change: -42.24951171875\n",
      "Company: Lockheed Martin, Change: 46.02985382080078\n",
      "Company: MasterCard, Change: -9.337293148040771\n",
      "Company: McDonalds, Change: 1128.1126098632812\n",
      "Company: Microsoft, Change: 10.520095825195312\n",
      "Company: Navistar, Change: 26.46002960205078\n",
      "Company: Northrop Grumman, Change: -8.069995880126953\n",
      "Company: Pepsi, Change: 7.830101013183594\n",
      "Company: Toyota, Change: -42.560020446777344\n",
      "Company: Texas Instruments, Change: -7.230005264282227\n",
      "Company: Walgreen, Change: 112.52017211914062\n"
     ]
    }
   ],
   "source": [
    "for i in range(0, len(companies)):\n",
    " print('Company: {}, Change: {}'.format(companies[i][0], sum(movements[i][:])))"
   ]
  },
  {
   "cell_type": "code",
   "execution_count": 152,
   "metadata": {},
   "outputs": [
    {
     "data": {
      "image/png": "[encoded data removed]",
      "text/plain": [
       "<Figure size 1296x1152 with 2 Axes>"
      ]
     },
     "metadata": {
      "needs_background": "light"
     },
     "output_type": "display_data"
    }
   ],
   "source": [
    "plt.figure(figsize=(18,16))\n",
    "ax1 = plt.subplot(221)\n",
    "plt.plot(movements[0][:])\n",
    "plt.title(companies[0])\n",
    "\n",
    "plt.subplot(222, sharey=ax1)\n",
    "plt.plot(movements[1][:])\n",
    "plt.title(companies[1])\n",
    "plt.show()"
   ]
  },
  {
   "cell_type": "code",
   "execution_count": 153,
   "metadata": {},
   "outputs": [
    {
     "name": "stdout",
     "output_type": "stream",
     "text": [
      "0.2593799644714481\n",
      "-0.3688872772598865\n",
      "-0.00016954954511011906\n"
     ]
    }
   ],
   "source": [
    "# import Normalizer\n",
    "from sklearn.preprocessing import Normalizer\n",
    "# create the Normalizer\n",
    "normalizer = Normalizer()\n",
    "\n",
    "new = normalizer.fit_transform(movements)\n",
    "\n",
    "print(new.max())\n",
    "print(new.min())\n",
    "print(new.mean())"
   ]
  },
  {
   "cell_type": "code",
   "execution_count": 154,
   "metadata": {},
   "outputs": [],
   "source": [
    "# import machine learning libraries\n",
    "from sklearn.pipeline import make_pipeline\n",
    "from sklearn.cluster import KMeans\n",
    "\n",
    "# define normalizer\n",
    "normalizer = Normalizer()\n",
    "\n",
    "# create a K-means model with 10 clusters\n",
    "kmeans = KMeans(n_clusters=5, max_iter=1000)\n",
    "\n",
    "# make a pipeline chaining normalizer and kmeans\n",
    "pipeline = make_pipeline(normalizer,kmeans)"
   ]
  },
  {
   "cell_type": "code",
   "execution_count": 155,
   "metadata": {},
   "outputs": [
    {
     "data": {
      "text/plain": [
       "Pipeline(steps=[('normalizer', Normalizer()),\n",
       "                ('kmeans', KMeans(max_iter=1000, n_clusters=5))])"
      ]
     },
     "execution_count": 155,
     "metadata": {},
     "output_type": "execute_result"
    }
   ],
   "source": [
    "# fit pipeline to daily stock movements\n",
    "pipeline.fit(movements)"
   ]
  },
  {
   "cell_type": "code",
   "execution_count": 156,
   "metadata": {},
   "outputs": [
    {
     "name": "stdout",
     "output_type": "stream",
     "text": [
      "    labels                        companies\n",
      "3        0          (American Express, AXP)\n",
      "5        0           (General Electric, GE)\n",
      "4        1                     (Boeing, BA)\n",
      "15       1                (Microsoft, MSFT)\n",
      "8        1                       (IBM, IBM)\n",
      "11       1                  (Coca Cola, KO)\n",
      "13       1                 (MasterCard, MA)\n",
      "19       2                     (Toyota, TM)\n",
      "2        2                   (Amazon, AMZN)\n",
      "6        2  (Alphabet Inc. (Class C), GOOG)\n",
      "9        2                    (Intel, INTC)\n",
      "20       2         (Texas Instruments, TXN)\n",
      "0        3                    (Apple, AAPL)\n",
      "14       3                 (McDonalds, MCD)\n",
      "10       3         (Johnson & Johnson, JNJ)\n",
      "7        3                     (Honda, HMC)\n",
      "1        3               (Amgen Inc., AMGN)\n",
      "12       3           (Lockheed Martin, LMT)\n",
      "16       4                  (Navistar, NAV)\n",
      "17       4          (Northrop Grumman, NOC)\n",
      "18       4                     (Pepsi, PEP)\n",
      "21       4                  (Walgreen, WBA)\n"
     ]
    }
   ],
   "source": [
    "# predict cluster labels\n",
    "labels = pipeline.predict(movements)\n",
    "\n",
    "# create a DataFrame aligning labels & companies\n",
    "df = pd.DataFrame({'labels': labels, 'companies': companies})\n",
    "\n",
    "# display df sorted by cluster labels\n",
    "print(df.sort_values('labels'))"
   ]
  },
  {
   "cell_type": "code",
   "execution_count": 157,
   "metadata": {},
   "outputs": [
    {
     "name": "stdout",
     "output_type": "stream",
     "text": [
      "    labels                        companies\n",
      "10       0         (Johnson & Johnson, JNJ)\n",
      "7        0                     (Honda, HMC)\n",
      "11       0                  (Coca Cola, KO)\n",
      "2        1                   (Amazon, AMZN)\n",
      "9        1                    (Intel, INTC)\n",
      "18       2                     (Pepsi, PEP)\n",
      "17       2          (Northrop Grumman, NOC)\n",
      "16       2                  (Navistar, NAV)\n",
      "8        3                       (IBM, IBM)\n",
      "14       4                 (McDonalds, MCD)\n",
      "12       4           (Lockheed Martin, LMT)\n",
      "0        4                    (Apple, AAPL)\n",
      "1        4               (Amgen Inc., AMGN)\n",
      "21       5                  (Walgreen, WBA)\n",
      "13       6                 (MasterCard, MA)\n",
      "15       6                (Microsoft, MSFT)\n",
      "4        6                     (Boeing, BA)\n",
      "5        7           (General Electric, GE)\n",
      "3        7          (American Express, AXP)\n",
      "19       8                     (Toyota, TM)\n",
      "20       8         (Texas Instruments, TXN)\n",
      "6        9  (Alphabet Inc. (Class C), GOOG)\n"
     ]
    }
   ],
   "source": [
    "# PCA\n",
    "from sklearn.decomposition import PCA \n",
    "\n",
    "# visualize the results\n",
    "reduced_data = PCA(n_components = 2).fit_transform(new)\n",
    "\n",
    "# run kmeans on reduced data\n",
    "kmeans = KMeans(n_clusters=10)\n",
    "kmeans.fit(reduced_data)\n",
    "labels = kmeans.predict(reduced_data)\n",
    "\n",
    "# create DataFrame aligning labels & companies\n",
    "df = pd.DataFrame({'labels': labels, 'companies': companies})\n",
    "\n",
    "# Display df sorted by cluster labels\n",
    "print(df.sort_values('labels'))"
   ]
  },
  {
   "cell_type": "code",
   "execution_count": 158,
   "metadata": {},
   "outputs": [
    {
     "data": {
      "text/plain": [
       "<Figure size 432x288 with 0 Axes>"
      ]
     },
     "metadata": {},
     "output_type": "display_data"
    },
    {
     "data": {
      "image/png": "[encoded data removed]",
      "text/plain": [
       "<Figure size 720x720 with 1 Axes>"
      ]
     },
     "metadata": {
      "needs_background": "light"
     },
     "output_type": "display_data"
    }
   ],
   "source": [
    "# Define step size of mesh\n",
    "h = 0.01\n",
    "\n",
    "# plot the decision boundary\n",
    "x_min, x_max = reduced_data[:, 0].min() - 1, reduced_data[:,0].max() + 1\n",
    "y_min, y_max = reduced_data[:, 1].min() - 1, reduced_data[:,1].max() + 1\n",
    "xx, yy = np.meshgrid(np.arange(x_min, x_max, h), np.arange(y_min, y_max, h))\n",
    "\n",
    "# Obtain abels for each point in the mesh using our trained model\n",
    "Z = kmeans.predict(np.c_[xx.ravel(), yy.ravel()])\n",
    "\n",
    "# Put the result into a color plot\n",
    "Z = Z.reshape(xx.shape)\n",
    "\n",
    "# define colorplot\n",
    "cmap = plt.cm.Paired\n",
    "\n",
    "# plot figure\n",
    "plt.clf()\n",
    "plt.figure(figsize=(10,10))\n",
    "plt.imshow(Z, interpolation='nearest',\n",
    " extent = (xx.min(), xx.max(), yy.min(), yy.max()),\n",
    " cmap = cmap,\n",
    " aspect = 'auto', origin='lower')\n",
    "plt.plot(reduced_data[:, 0], reduced_data[:, 1], 'k.', markersize=5)\n",
    "\n",
    "\n",
    "# plot the centroid of each cluster as a white X\n",
    "centroids = kmeans.cluster_centers_\n",
    "plt.scatter(centroids[:, 0], centroids[:, 1],\n",
    " marker='x', s=169, linewidth=3,\n",
    " color='w', zorder=10)\n",
    "\n",
    "plt.title('K-Means Clustering on Stock Market Movements (PCA-Reduced Data)')\n",
    "plt.xlim(x_min, x_max)\n",
    "plt.ylim(y_min, y_max)\n",
    "plt.show()"
   ]
  },
  {
   "cell_type": "code",
   "execution_count": null,
   "metadata": {},
   "outputs": [],
   "source": []
  }
 ],
 "metadata": {
  "kernelspec": {
   "display_name": "Python 3",
   "language": "python",
   "name": "python3"
  },
  "language_info": {
   "codemirror_mode": {
    "name": "ipython",
    "version": 3
   },
   "file_extension": ".py",
   "mimetype": "text/x-python",
   "name": "python",
   "nbconvert_exporter": "python",
   "pygments_lexer": "ipython3",
   "version": "3.8.5"
  }
 },
 "nbformat": 4,
 "nbformat_minor": 4
}
