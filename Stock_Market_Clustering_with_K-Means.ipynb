{
 "cells": [
  {
   "cell_type": "code",
   "execution_count": 10,
   "metadata": {},
   "outputs": [],
   "source": [
    "import pandas_datareader.data as web\n",
    "from matplotlib import pyplot as plt\n",
    "import pandas as pd\n",
    "import numpy as np\n",
    "import datetime"
   ]
  },
  {
   "cell_type": "code",
   "execution_count": 14,
   "metadata": {},
   "outputs": [],
   "source": [
    "# define instruments to download\n",
    "companies_dict = {\n",
    " 'Amazon': 'AMZN',\n",
    " 'Apple': 'AAPL',\n",
    " 'Walgreen': 'WBA',\n",
    " 'Northrop Grumman': 'NOC',\n",
    " 'Boeing': 'BA',\n",
    " 'Lockheed Martin':'LMT',\n",
    " 'McDonalds': 'MCD',\n",
    " 'Intel': 'INTC',\n",
    " 'NextEra Energy': 'NEE',\n",
    " 'IBM': 'IBM',\n",
    " 'Texas Instruments': 'TXN',\n",
    " 'MasterCard': 'MA',\n",
    " 'Microsoft': 'MSFT',\n",
    " 'General Electric': 'GE',\n",
    " 'Alphabet Inc. (Class C)': 'GOOG',\n",
    " 'American Express': 'AXP',\n",
    " 'Pepsi': 'PEP',\n",
    " 'Coca Cola': 'KO',\n",
    " 'Johnson & Johnson': 'JNJ',\n",
    " 'Toyota': 'TM',\n",
    " 'Honda': 'HMC',\n",
    " 'Amgen Inc.': 'AMGN',\n",
    " 'JPMorgan Chase & Co.': 'JPM',\n",
    " 'Netflix Inc.': 'NFLX',\n",
    " 'UnitedHealth Group Inc.': 'UNH',\n",
    " 'Visa Inc.': 'V',\n",
    " 'Vulcan Materials': 'VMC',\n",
    " 'Verizon Communications': 'VZ',\n",
    " 'Waste Management Inc.': 'WM',  \n",
    " 'Target Corp.': 'TGT',\n",
    " 'Prologis': 'PLD',\n",
    " 'Phillips 66': 'PSX',\n",
    " 'Pioneer Natural Resources': 'PXD',\n",
    " 'Progressive Corp.': 'PGR',\n",
    " 'Nucor Corp.': 'NUE',\n",
    " 'Norwegian Cruise Line Holdings': 'NCLH',\n",
    " '3M Company': 'MMM',\n",
    " 'Medtronic plc': 'MDT',\n",
    " 'Lilly (Eli) & Co.': 'LLY',\n",
    " 'Masco Corp.': 'MAS',\n",
    " 'Kroger Co.': 'KR'\n",
    "}\n",
    "\n",
    "companies = sorted(companies_dict.items(), key=lambda x: x[1])"
   ]
  },
  {
   "cell_type": "code",
   "execution_count": 15,
   "metadata": {},
   "outputs": [],
   "source": [
    "# df=pd.read_csv('SP500_List.csv')\n",
    "\n",
    "# localhost:5000/volatility_score?basket=AAPL, TSLA, BA"
   ]
  },
  {
   "cell_type": "code",
   "execution_count": 16,
   "metadata": {},
   "outputs": [],
   "source": [
    "# df[df['GICS Sector']=='Industrials']['Symbol']\n",
    "# df[df['GICS Sector']=='Materials']['Symbol']\n",
    "# df[df['GICS Sector']=='Energy']['Symbol']\n",
    "# df[df['GICS Sector']=='Healthcare']['Symbol']\n",
    "# df[df['GICS Sector']=='Financials']['Symbol']\n",
    "# df[df['GICS Sector']=='Technology']['Symbol']\n",
    "# df[df['GICS Sector']=='Utilities']['Symbol']\n",
    "# df[df['GICS Sector']=='Real Estate']['Symbol']\n",
    "# df[df['GICS Sector']=='Consumer Discretionary']['Symbol']\n",
    "# df[df['GICS Sector']=='Consumer Staples']['Symbol']\n",
    "# df[df['GICS Sector']=='Communication']['Symbol']"
   ]
  },
  {
   "cell_type": "code",
   "execution_count": 56,
   "metadata": {},
   "outputs": [
    {
     "name": "stdout",
     "output_type": "stream",
     "text": [
      "[DatetimeIndex(['2016-05-20', '2016-05-23', '2016-05-24', '2016-05-25',\n",
      "               '2016-05-26', '2016-05-27', '2016-05-31', '2016-06-01',\n",
      "               '2016-06-02', '2016-06-03',\n",
      "               ...\n",
      "               '2021-05-07', '2021-05-10', '2021-05-11', '2021-05-12',\n",
      "               '2021-05-13', '2021-05-14', '2021-05-17', '2021-05-18',\n",
      "               '2021-05-19', '2021-05-20'],\n",
      "              dtype='datetime64[ns]', name='Date', length=1259, freq=None), MultiIndex([('Adj Close', 'AMZN'),\n",
      "            ('Adj Close', 'AAPL'),\n",
      "            ('Adj Close',  'WBA'),\n",
      "            ('Adj Close',  'NOC'),\n",
      "            ('Adj Close',   'BA'),\n",
      "            ('Adj Close',  'LMT'),\n",
      "            ('Adj Close',  'MCD'),\n",
      "            ('Adj Close', 'INTC'),\n",
      "            ('Adj Close',  'NEE'),\n",
      "            ('Adj Close',  'IBM'),\n",
      "            ...\n",
      "            (   'Volume',  'PSX'),\n",
      "            (   'Volume',  'PXD'),\n",
      "            (   'Volume',  'PGR'),\n",
      "            (   'Volume',  'NUE'),\n",
      "            (   'Volume', 'NCLH'),\n",
      "            (   'Volume',  'MMM'),\n",
      "            (   'Volume',  'MDT'),\n",
      "            (   'Volume',  'LLY'),\n",
      "            (   'Volume',  'MAS'),\n",
      "            (   'Volume',   'KR')],\n",
      "           names=['Attributes', 'Symbols'], length=246)]\n"
     ]
    }
   ],
   "source": [
    "# Define which online source to use\n",
    "data_source = 'yahoo'\n",
    "\n",
    "# define start and end dates\n",
    "start_date = '2016-05-20'\n",
    "# start_date = '2018-05-20'\n",
    "# start_date = '2011-05-20' #2 NaN's\n",
    "end_date = '2021-05-20'\n",
    "\n",
    "# Use pandas_datareader.data.DataReader to load the desired data list(companies_dict.values()) used for python 3 compatibility\n",
    "panel_data = web.DataReader(list(companies_dict.values()), data_source, start_date, end_date)\n",
    "\n",
    "print(panel_data.axes)"
   ]
  },
  {
   "cell_type": "code",
   "execution_count": 57,
   "metadata": {},
   "outputs": [
    {
     "name": "stdout",
     "output_type": "stream",
     "text": [
      "Symbols\n",
      "AMZN    702.799988\n",
      "AAPL     23.805000\n",
      "WBA      77.220001\n",
      "NOC     212.720001\n",
      "BA      127.389999\n",
      "LMT     240.070007\n",
      "MCD     122.559998\n",
      "INTC     30.150000\n",
      "NEE      29.832500\n",
      "IBM     147.250000\n",
      "TXN      58.529999\n",
      "MA       95.470001\n",
      "MSFT     50.619999\n",
      "GE       28.423077\n",
      "GOOG    709.739990\n",
      "AXP      63.919998\n",
      "PEP     100.099998\n",
      "KO       43.950001\n",
      "JNJ     112.639999\n",
      "TM      100.610001\n",
      "HMC      26.799999\n",
      "AMGN    150.179993\n",
      "JPM      63.509998\n",
      "NFLX     92.489998\n",
      "UNH     130.940002\n",
      "V        77.669998\n",
      "VMC     115.750000\n",
      "VZ       49.660000\n",
      "WM       60.730000\n",
      "TGT      68.660004\n",
      "PLD      46.840000\n",
      "PSX      77.900002\n",
      "PXD     164.339996\n",
      "PGR      32.980000\n",
      "NUE      46.529999\n",
      "NCLH     47.209999\n",
      "MMM     165.009995\n",
      "MDT      80.519997\n",
      "LLY      74.809998\n",
      "MAS      31.780001\n",
      "KR       34.619999\n",
      "Name: 2016-05-20 00:00:00, dtype: float64\n"
     ]
    }
   ],
   "source": [
    "# Find Stock Open and Close Values\n",
    "stock_close = panel_data['Close']\n",
    "stock_open = panel_data['Open']\n",
    "\n",
    "\n",
    "# df=panel_data.dropna()\n",
    "# df=panel_data.isnull()\n",
    "\n",
    "# print(stock_close)\n",
    "print(stock_close.iloc[0])\n",
    "# print(df)"
   ]
  },
  {
   "cell_type": "code",
   "execution_count": 58,
   "metadata": {},
   "outputs": [],
   "source": [
    "# Calculate daily stock movement\n",
    "stock_close = np.array(stock_close).T\n",
    "stock_open = np.array(stock_open).T\n",
    "\n",
    "row, col = stock_close.shape\n",
    "\n",
    "# create movements dataset filled with 0's\n",
    "movements = np.zeros([row, col])\n",
    "\n",
    "for i in range(0, row):\n",
    " movements[i,:] = np.subtract(stock_close[i,:], stock_open[i,:])"
   ]
  },
  {
   "cell_type": "code",
   "execution_count": 59,
   "metadata": {},
   "outputs": [
    {
     "data": {
      "text/plain": [
       "41"
      ]
     },
     "execution_count": 59,
     "metadata": {},
     "output_type": "execute_result"
    }
   ],
   "source": [
    "len(companies)"
   ]
  },
  {
   "cell_type": "code",
   "execution_count": 60,
   "metadata": {},
   "outputs": [
    {
     "name": "stdout",
     "output_type": "stream",
     "text": [
      "Company: Apple, Change: -1088.5132446289062\n",
      "Company: Amgen Inc., Change: 40.3223876953125\n",
      "Company: Amazon, Change: -20.660037994384766\n",
      "Company: American Express, Change: -39.25038146972656\n",
      "Company: Boeing, Change: -165.82036590576172\n",
      "Company: General Electric, Change: -129.96925354003906\n",
      "Company: Alphabet Inc. (Class C), Change: 15.740257263183594\n",
      "Company: Honda, Change: 31.25998306274414\n",
      "Company: IBM, Change: 22.307512283325195\n",
      "Company: Intel, Change: -13.269790649414062\n",
      "Company: Johnson & Johnson, Change: 64.11001205444336\n",
      "Company: JPMorgan Chase & Co., Change: -13.699485778808594\n",
      "Company: Coca Cola, Change: 53.6198616027832\n",
      "Company: Kroger Co., Change: -20.952690601348877\n",
      "Company: Lilly (Eli) & Co., Change: 1315.6033325195312\n",
      "Company: Lockheed Martin, Change: 13.350238800048828\n",
      "Company: MasterCard, Change: 23.980026245117188\n",
      "Company: Masco Corp., Change: -9.700016021728516\n",
      "Company: McDonalds, Change: 5.56005859375\n",
      "Company: Medtronic plc, Change: -43.08001708984375\n",
      "Company: 3M Company, Change: -10.500007629394531\n",
      "Company: Microsoft, Change: 120.59992980957031\n",
      "Company: Norwegian Cruise Line Holdings, Change: 30.149925231933594\n",
      "Company: NextEra Energy, Change: 92.98970794677734\n",
      "Company: Netflix Inc., Change: 72.37965393066406\n",
      "Company: Northrop Grumman, Change: -8.720176696777344\n",
      "Company: Nucor Corp., Change: -56.939979553222656\n",
      "Company: Pepsi, Change: 3.5199623107910156\n",
      "Company: Progressive Corp., Change: 35.61991500854492\n",
      "Company: Prologis, Change: 20.06023406982422\n",
      "Company: Phillips 66, Change: 20.490055084228516\n",
      "Company: Pioneer Natural Resources, Change: -54.65001678466797\n",
      "Company: Target Corp., Change: -127.02999496459961\n",
      "Company: Toyota, Change: 70.30999755859375\n",
      "Company: Texas Instruments, Change: -18.739952087402344\n",
      "Company: UnitedHealth Group Inc., Change: -55.45999097824097\n",
      "Company: Visa Inc., Change: -36.29985046386719\n",
      "Company: Vulcan Materials, Change: -47.52991485595703\n",
      "Company: Verizon Communications, Change: 77.84993743896484\n",
      "Company: Walgreen, Change: 2.230070114135742\n",
      "Company: Waste Management Inc., Change: 8.459932327270508\n"
     ]
    }
   ],
   "source": [
    "for i in range(0, len(companies)):\n",
    " print('Company: {}, Change: {}'.format(companies[i][0], sum(movements[i][:])))\n"
   ]
  },
  {
   "cell_type": "code",
   "execution_count": 61,
   "metadata": {},
   "outputs": [
    {
     "data": {
      "image/png": "[encoded data removed]",
      "text/plain": [
       "<Figure size 1296x1152 with 2 Axes>"
      ]
     },
     "metadata": {
      "needs_background": "light"
     },
     "output_type": "display_data"
    }
   ],
   "source": [
    "plt.figure(figsize=(18,16))\n",
    "ax1 = plt.subplot(221)\n",
    "plt.plot(movements[0][:])\n",
    "plt.title(companies[0])\n",
    "\n",
    "plt.subplot(222, sharey=ax1)\n",
    "plt.plot(movements[1][:])\n",
    "plt.title(companies[1])\n",
    "plt.show()"
   ]
  },
  {
   "cell_type": "code",
   "execution_count": 62,
   "metadata": {},
   "outputs": [
    {
     "name": "stdout",
     "output_type": "stream",
     "text": [
      "0.2486269969498803\n",
      "-0.31655754123518137\n",
      "-1.1091233564236563e-05\n"
     ]
    }
   ],
   "source": [
    "# import Normalizer\n",
    "from sklearn.preprocessing import Normalizer\n",
    "# create the Normalizer\n",
    "normalizer = Normalizer()\n",
    "\n",
    "new = normalizer.fit_transform(movements)\n",
    "\n",
    "print(new.max())\n",
    "print(new.min())\n",
    "print(new.mean())"
   ]
  },
  {
   "cell_type": "code",
   "execution_count": 71,
   "metadata": {},
   "outputs": [
    {
     "ename": "AttributeError",
     "evalue": "'list' object has no attribute 'change'",
     "output_type": "error",
     "traceback": [
      "\u001b[0;31m---------------------------------------------------------------------------\u001b[0m",
      "\u001b[0;31mAttributeError\u001b[0m                            Traceback (most recent call last)",
      "\u001b[0;32m<ipython-input-71-bb89389824dd>\u001b[0m in \u001b[0;36m<module>\u001b[0;34m\u001b[0m\n\u001b[1;32m      1\u001b[0m \u001b[0;31m#Calculate average annual percentage return and volatilities over a theoretical one year period\u001b[0m\u001b[0;34m\u001b[0m\u001b[0;34m\u001b[0m\u001b[0;34m\u001b[0m\u001b[0m\n\u001b[0;32m----> 2\u001b[0;31m \u001b[0mreturns\u001b[0m \u001b[0;34m=\u001b[0m \u001b[0mcompanies\u001b[0m\u001b[0;34m.\u001b[0m\u001b[0mchange\u001b[0m\u001b[0;34m(\u001b[0m\u001b[0;34m)\u001b[0m\u001b[0;34m.\u001b[0m\u001b[0mmean\u001b[0m\u001b[0;34m(\u001b[0m\u001b[0;34m)\u001b[0m \u001b[0;34m*\u001b[0m \u001b[0;36m252\u001b[0m\u001b[0;34m\u001b[0m\u001b[0;34m\u001b[0m\u001b[0m\n\u001b[0m\u001b[1;32m      3\u001b[0m \u001b[0mreturns\u001b[0m \u001b[0;34m=\u001b[0m \u001b[0mpd\u001b[0m\u001b[0;34m.\u001b[0m\u001b[0mDataFrame\u001b[0m\u001b[0;34m(\u001b[0m\u001b[0mreturns\u001b[0m\u001b[0;34m)\u001b[0m\u001b[0;34m\u001b[0m\u001b[0;34m\u001b[0m\u001b[0m\n\u001b[1;32m      4\u001b[0m \u001b[0mreturns\u001b[0m\u001b[0;34m.\u001b[0m\u001b[0mcolumns\u001b[0m \u001b[0;34m=\u001b[0m \u001b[0;34m[\u001b[0m\u001b[0;34m'Returns'\u001b[0m\u001b[0;34m]\u001b[0m\u001b[0;34m\u001b[0m\u001b[0;34m\u001b[0m\u001b[0m\n\u001b[1;32m      5\u001b[0m \u001b[0mreturns\u001b[0m\u001b[0;34m[\u001b[0m\u001b[0;34m'Volatility'\u001b[0m\u001b[0;34m]\u001b[0m \u001b[0;34m=\u001b[0m \u001b[0mcompanies\u001b[0m\u001b[0;34m.\u001b[0m\u001b[0mchange\u001b[0m\u001b[0;34m(\u001b[0m\u001b[0;34m)\u001b[0m\u001b[0;34m.\u001b[0m\u001b[0mstd\u001b[0m\u001b[0;34m(\u001b[0m\u001b[0;34m)\u001b[0m \u001b[0;34m*\u001b[0m \u001b[0msqrt\u001b[0m\u001b[0;34m(\u001b[0m\u001b[0;36m252\u001b[0m\u001b[0;34m)\u001b[0m\u001b[0;34m\u001b[0m\u001b[0;34m\u001b[0m\u001b[0m\n",
      "\u001b[0;31mAttributeError\u001b[0m: 'list' object has no attribute 'change'"
     ]
    }
   ],
   "source": [
    "#Calculate average annual percentage return and volatilities over a theoretical one year period\n",
    "\n",
    "#https://pythonforfinance.net/2018/02/08/stock-clusters-using-k-means-algorithm-in-python/\n",
    "\n",
    "\n",
    "returns = companies.pct_change().mean() * 252\n",
    "returns = pd.DataFrame(returns)\n",
    "returns.columns = ['Returns']\n",
    "returns['Volatility'] = companies.pct_change().std() * sqrt(252)\n",
    "#format the data as a numpy array to feed into the K-Means algorithm\n",
    "data = np.asarray([np.asarray(returns['Returns']),np.asarray(returns['Volatility'])]).T\n",
    "X = data\n",
    "distorsions = []\n",
    "for k in range(2, 20):\n",
    "    k_means = KMeans(n_clusters=k)\n",
    "    k_means.fit(X)\n",
    "    distorsions.append(k_means.inertia_)\n",
    "fig = plt.figure(figsize=(15, 5))\n",
    "plt.plot(range(2, 20), distorsions)\n",
    "plt.grid(True)\n",
    "plt.title('Elbow curve')"
   ]
  },
  {
   "cell_type": "code",
   "execution_count": 63,
   "metadata": {},
   "outputs": [],
   "source": [
    "# import machine learning libraries\n",
    "from sklearn.pipeline import make_pipeline\n",
    "from sklearn.cluster import KMeans\n",
    "\n",
    "# define normalizer\n",
    "normalizer = Normalizer()\n",
    "\n",
    "# create a K-means model with 10 clusters\n",
    "kmeans = KMeans(n_clusters=10, max_iter=1000)\n",
    "\n",
    "# make a pipeline chaining normalizer and kmeans\n",
    "pipeline = make_pipeline(normalizer,kmeans)"
   ]
  },
  {
   "cell_type": "code",
   "execution_count": 64,
   "metadata": {},
   "outputs": [
    {
     "data": {
      "text/plain": [
       "Pipeline(steps=[('normalizer', Normalizer()),\n",
       "                ('kmeans', KMeans(max_iter=1000, n_clusters=10))])"
      ]
     },
     "execution_count": 64,
     "metadata": {},
     "output_type": "execute_result"
    }
   ],
   "source": [
    "# fit pipeline to daily stock movements\n",
    "pipeline.fit(movements)"
   ]
  },
  {
   "cell_type": "code",
   "execution_count": 69,
   "metadata": {},
   "outputs": [
    {
     "name": "stdout",
     "output_type": "stream",
     "text": [
      "0.17490434003337701\n"
     ]
    }
   ],
   "source": [
    "# To check how well the algorithm did use print(kmeans.inertia_)\n",
    "#Intertia is a score of how close each cluster is, so a lower inertia score is better. \n",
    "#In this case, we get a score of 17.490\n",
    "print(kmeans.inertia_)"
   ]
  },
  {
   "cell_type": "code",
   "execution_count": 65,
   "metadata": {},
   "outputs": [
    {
     "name": "stdout",
     "output_type": "stream",
     "text": [
      "    labels                               companies\n",
      "30       0                      (Phillips 66, PSX)\n",
      "39       0                         (Walgreen, WBA)\n",
      "8        0                              (IBM, IBM)\n",
      "6        0         (Alphabet Inc. (Class C), GOOG)\n",
      "23       1                   (NextEra Energy, NEE)\n",
      "12       1                         (Coca Cola, KO)\n",
      "10       1                (Johnson & Johnson, JNJ)\n",
      "0        1                           (Apple, AAPL)\n",
      "14       1                (Lilly (Eli) & Co., LLY)\n",
      "1        1                      (Amgen Inc., AMGN)\n",
      "7        1                            (Honda, HMC)\n",
      "31       2        (Pioneer Natural Resources, PXD)\n",
      "32       2                     (Target Corp., TGT)\n",
      "24       3                    (Netflix Inc., NFLX)\n",
      "21       3                       (Microsoft, MSFT)\n",
      "38       3            (Verizon Communications, VZ)\n",
      "18       3                        (McDonalds, MCD)\n",
      "33       3                            (Toyota, TM)\n",
      "17       4                      (Masco Corp., MAS)\n",
      "28       4                (Progressive Corp., PGR)\n",
      "27       4                            (Pepsi, PEP)\n",
      "16       4                        (MasterCard, MA)\n",
      "15       5                  (Lockheed Martin, LMT)\n",
      "22       5  (Norwegian Cruise Line Holdings, NCLH)\n",
      "34       5                (Texas Instruments, TXN)\n",
      "26       5                      (Nucor Corp., NUE)\n",
      "3        6                 (American Express, AXP)\n",
      "5        6                  (General Electric, GE)\n",
      "36       7                          (Visa Inc., V)\n",
      "35       7          (UnitedHealth Group Inc., UNH)\n",
      "20       7                       (3M Company, MMM)\n",
      "19       7                    (Medtronic plc, MDT)\n",
      "13       7                        (Kroger Co., KR)\n",
      "9        7                           (Intel, INTC)\n",
      "4        7                            (Boeing, BA)\n",
      "2        7                          (Amazon, AMZN)\n",
      "29       7                         (Prologis, PLD)\n",
      "25       8                 (Northrop Grumman, NOC)\n",
      "11       8             (JPMorgan Chase & Co., JPM)\n",
      "37       8                 (Vulcan Materials, VMC)\n",
      "40       9             (Waste Management Inc., WM)\n"
     ]
    }
   ],
   "source": [
    "# predict cluster labels\n",
    "labels = pipeline.predict(movements)\n",
    "\n",
    "# create a DataFrame aligning labels & companies\n",
    "df = pd.DataFrame({'labels': labels, 'companies': companies})\n",
    "\n",
    "# display df sorted by cluster labels\n",
    "print(df.sort_values('labels'))"
   ]
  },
  {
   "cell_type": "code",
   "execution_count": 66,
   "metadata": {},
   "outputs": [
    {
     "name": "stdout",
     "output_type": "stream",
     "text": [
      "    labels                               companies\n",
      "16       0                        (MasterCard, MA)\n",
      "8        0                              (IBM, IBM)\n",
      "25       1                 (Northrop Grumman, NOC)\n",
      "7        1                            (Honda, HMC)\n",
      "10       1                (Johnson & Johnson, JNJ)\n",
      "11       1             (JPMorgan Chase & Co., JPM)\n",
      "22       2  (Norwegian Cruise Line Holdings, NCLH)\n",
      "34       2                (Texas Instruments, TXN)\n",
      "31       2        (Pioneer Natural Resources, PXD)\n",
      "15       2                  (Lockheed Martin, LMT)\n",
      "13       2                        (Kroger Co., KR)\n",
      "26       2                      (Nucor Corp., NUE)\n",
      "24       3                    (Netflix Inc., NFLX)\n",
      "40       3             (Waste Management Inc., WM)\n",
      "6        3         (Alphabet Inc. (Class C), GOOG)\n",
      "5        3                  (General Electric, GE)\n",
      "3        3                 (American Express, AXP)\n",
      "37       3                 (Vulcan Materials, VMC)\n",
      "29       3                         (Prologis, PLD)\n",
      "23       4                   (NextEra Energy, NEE)\n",
      "0        4                           (Apple, AAPL)\n",
      "14       4                (Lilly (Eli) & Co., LLY)\n",
      "12       4                         (Coca Cola, KO)\n",
      "1        4                      (Amgen Inc., AMGN)\n",
      "18       5                        (McDonalds, MCD)\n",
      "17       5                      (Masco Corp., MAS)\n",
      "27       5                            (Pepsi, PEP)\n",
      "28       5                (Progressive Corp., PGR)\n",
      "33       5                            (Toyota, TM)\n",
      "35       6          (UnitedHealth Group Inc., UNH)\n",
      "4        6                            (Boeing, BA)\n",
      "32       6                     (Target Corp., TGT)\n",
      "21       7                       (Microsoft, MSFT)\n",
      "38       7            (Verizon Communications, VZ)\n",
      "30       7                      (Phillips 66, PSX)\n",
      "39       8                         (Walgreen, WBA)\n",
      "36       8                          (Visa Inc., V)\n",
      "9        8                           (Intel, INTC)\n",
      "2        8                          (Amazon, AMZN)\n",
      "19       9                    (Medtronic plc, MDT)\n",
      "20       9                       (3M Company, MMM)\n"
     ]
    }
   ],
   "source": [
    "# PCA\n",
    "from sklearn.decomposition import PCA \n",
    "\n",
    "# visualize the results\n",
    "reduced_data = PCA(n_components = 2).fit_transform(new)\n",
    "\n",
    "# run kmeans on reduced data\n",
    "kmeans = KMeans(n_clusters=10)\n",
    "kmeans.fit(reduced_data)\n",
    "labels = kmeans.predict(reduced_data)\n",
    "\n",
    "# create DataFrame aligning labels & companies\n",
    "df = pd.DataFrame({'labels': labels, 'companies': companies})\n",
    "\n",
    "# Display df sorted by cluster labels\n",
    "print(df.sort_values('labels'))"
   ]
  },
  {
   "cell_type": "code",
   "execution_count": 67,
   "metadata": {},
   "outputs": [
    {
     "data": {
      "text/plain": [
       "<Figure size 432x288 with 0 Axes>"
      ]
     },
     "metadata": {},
     "output_type": "display_data"
    },
    {
     "data": {
      "image/png": "[encoded data removed]",
      "text/plain": [
       "<Figure size 720x720 with 1 Axes>"
      ]
     },
     "metadata": {
      "needs_background": "light"
     },
     "output_type": "display_data"
    }
   ],
   "source": [
    "# Define step size of mesh\n",
    "h = 0.01\n",
    "\n",
    "# plot the decision boundary\n",
    "x_min, x_max = reduced_data[:, 0].min() - 1, reduced_data[:,0].max() + 1\n",
    "y_min, y_max = reduced_data[:, 1].min() - 1, reduced_data[:,1].max() + 1\n",
    "xx, yy = np.meshgrid(np.arange(x_min, x_max, h), np.arange(y_min, y_max, h))\n",
    "\n",
    "# Obtain abels for each point in the mesh using our trained model\n",
    "Z = kmeans.predict(np.c_[xx.ravel(), yy.ravel()])\n",
    "\n",
    "# Put the result into a color plot\n",
    "Z = Z.reshape(xx.shape)\n",
    "\n",
    "# define colorplot\n",
    "cmap = plt.cm.Paired\n",
    "\n",
    "# plot figure\n",
    "plt.clf()\n",
    "plt.figure(figsize=(10,10))\n",
    "plt.imshow(Z, interpolation='nearest',\n",
    " extent = (xx.min(), xx.max(), yy.min(), yy.max()),\n",
    " cmap = cmap,\n",
    " aspect = 'auto', origin='lower')\n",
    "plt.plot(reduced_data[:, 0], reduced_data[:, 1], 'k.', markersize=5)\n",
    "\n",
    "\n",
    "# plot the centroid of each cluster as a white X\n",
    "centroids = kmeans.cluster_centers_\n",
    "plt.scatter(centroids[:, 0], centroids[:, 1],\n",
    " marker='x', s=169, linewidth=3,\n",
    " color='w', zorder=10)\n",
    "\n",
    "plt.title('K-Means Clustering on Stock Market Movements (PCA-Reduced Data)')\n",
    "plt.xlim(x_min, x_max)\n",
    "plt.ylim(y_min, y_max)\n",
    "plt.show()"
   ]
  },
  {
   "cell_type": "code",
   "execution_count": 68,
   "metadata": {},
   "outputs": [
    {
     "name": "stdout",
     "output_type": "stream",
     "text": [
      "0.17490434003337701\n"
     ]
    }
   ],
   "source": []
  },
  {
   "cell_type": "code",
   "execution_count": null,
   "metadata": {},
   "outputs": [],
   "source": []
  }
 ],
 "metadata": {
  "kernelspec": {
   "display_name": "Python 3",
   "language": "python",
   "name": "python3"
  },
  "language_info": {
   "codemirror_mode": {
    "name": "ipython",
    "version": 3
   },
   "file_extension": ".py",
   "mimetype": "text/x-python",
   "name": "python",
   "nbconvert_exporter": "python",
   "pygments_lexer": "ipython3",
   "version": "3.6.13"
  }
 },
 "nbformat": 4,
 "nbformat_minor": 4
}
