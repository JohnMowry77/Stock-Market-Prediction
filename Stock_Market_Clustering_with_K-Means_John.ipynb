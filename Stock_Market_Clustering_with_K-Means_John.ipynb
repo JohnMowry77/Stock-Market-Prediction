{
 "cells": [
  {
   "cell_type": "code",
   "execution_count": 2,
   "metadata": {},
   "outputs": [],
   "source": [
    "import pandas_datareader.data as web\n",
    "from matplotlib import pyplot as plt\n",
    "import pandas as pd\n",
    "import numpy as np\n",
    "import datetime\n",
    "\n",
    "import trading_calendars as tc\n",
    "import pytz"
   ]
  },
  {
   "cell_type": "code",
   "execution_count": 3,
   "metadata": {},
   "outputs": [],
   "source": [
    "# define instruments to download\n",
    "companies_dict = {\n",
    " 'Amazon': 'AMZN',\n",
    " 'Apple': 'AAPL',\n",
    " 'Walgreen': 'WBA',\n",
    " 'Northrop Grumman': 'NOC',\n",
    " 'Boeing': 'BA',\n",
    " 'Lockheed Martin':'LMT',\n",
    " 'McDonalds': 'MCD',\n",
    " 'Intel': 'INTC',\n",
    " 'NextEra Energy': 'NEE',\n",
    " 'IBM': 'IBM',\n",
    " 'Texas Instruments': 'TXN',\n",
    " 'MasterCard': 'MA',\n",
    " 'Microsoft': 'MSFT',\n",
    " 'General Electric': 'GE',\n",
    " 'Alphabet Inc. (Class A)': 'GOOGL',\n",
    " 'American Express': 'AXP',\n",
    " 'Pepsi': 'PEP',\n",
    " 'Coca Cola': 'KO',\n",
    " 'Johnson & Johnson': 'JNJ',\n",
    " 'General Motors': 'GM',\n",
    " 'HCA Healthcare': 'HCA',\n",
    " 'Amgen Inc.': 'AMGN',\n",
    " 'JPMorgan Chase & Co.': 'JPM',\n",
    " 'Netflix Inc.': 'NFLX',\n",
    " 'UnitedHealth Group Inc.': 'UNH',\n",
    " 'Visa Inc.': 'V',\n",
    " 'Vulcan Materials': 'VMC',\n",
    " 'Verizon Communications': 'VZ','Lincoln National': 'LNC',\n",
    " 'Waste Management Inc.': 'WM',  \n",
    " 'Target Corp.': 'TGT',\n",
    " 'Prologis': 'PLD',\n",
    " 'Chevron Corp.': 'CVX',\n",
    " 'Pioneer Natural Resources': 'PXD',\n",
    " 'Progressive Corp.': 'PGR',\n",
    " 'Nucor Corp.': 'NUE',\n",
    " 'TJX Companies Inc.': 'TJX',\n",
    " '3M Company': 'MMM',\n",
    " 'Medtronic plc': 'MDT',\n",
    " 'Lilly (Eli) & Co.': 'LLY',\n",
    " 'Masco Corp.': 'MAS',\n",
    " 'Kroger Co.': 'KR',\n",
    " 'AmerisourceBergen': 'ABC',\n",
    " 'Applied Materials Inc.': 'AMAT',\n",
    " 'Deere & Co.': 'DE',\n",
    " 'United Parcel Service': 'UPS',\n",
    " 'Lennar Corp.': 'LEN',\n",
    " 'Whirlpool Corp.': 'WHR',\n",
    " 'Lincoln National': 'LNC',\n",
    " 'Adobe Inc.': 'ADBE',\n",
    " 'Celanese': 'CE'\n",
    "}\n",
    "\n",
    "companies = sorted(companies_dict.items(), key=lambda x: x[1])"
   ]
  },
  {
   "cell_type": "code",
   "execution_count": 4,
   "metadata": {},
   "outputs": [],
   "source": [
    "# df=pd.read_csv('SP500_List.csv')\n",
    "\n",
    "# localhost:5000/volatility_score?basket=AAPL, TSLA, BA"
   ]
  },
  {
   "cell_type": "code",
   "execution_count": 5,
   "metadata": {},
   "outputs": [],
   "source": [
    "# df[df['GICS Sector']=='Industrials']['Symbol']\n",
    "# df[df['GICS Sector']=='Materials']['Symbol']\n",
    "# df[df['GICS Sector']=='Energy']['Symbol']\n",
    "# df[df['GICS Sector']=='Healthcare']['Symbol']\n",
    "# df[df['GICS Sector']=='Financials']['Symbol']\n",
    "# df[df['GICS Sector']=='Technology']['Symbol']\n",
    "# df[df['GICS Sector']=='Utilities']['Symbol']\n",
    "# df[df['GICS Sector']=='Real Estate']['Symbol']\n",
    "# df[df['GICS Sector']=='Consumer Discretionary']['Symbol']\n",
    "# df[df['GICS Sector']=='Consumer Staples']['Symbol']\n",
    "# df[df['GICS Sector']=='Communication']['Symbol']"
   ]
  },
  {
   "cell_type": "code",
   "execution_count": 6,
   "metadata": {},
   "outputs": [
    {
     "name": "stdout",
     "output_type": "stream",
     "text": [
      "[DatetimeIndex(['2011-05-20', '2011-05-23', '2011-05-24', '2011-05-25',\n",
      "               '2011-05-26', '2011-05-27', '2011-05-31', '2011-06-01',\n",
      "               '2011-06-02', '2011-06-03',\n",
      "               ...\n",
      "               '2021-05-07', '2021-05-10', '2021-05-11', '2021-05-12',\n",
      "               '2021-05-13', '2021-05-14', '2021-05-17', '2021-05-18',\n",
      "               '2021-05-19', '2021-05-20'],\n",
      "              dtype='datetime64[ns]', name='Date', length=2517, freq=None), MultiIndex([('Adj Close', 'AMZN'),\n",
      "            ('Adj Close', 'AAPL'),\n",
      "            ('Adj Close',  'WBA'),\n",
      "            ('Adj Close',  'NOC'),\n",
      "            ('Adj Close',   'BA'),\n",
      "            ('Adj Close',  'LMT'),\n",
      "            ('Adj Close',  'MCD'),\n",
      "            ('Adj Close', 'INTC'),\n",
      "            ('Adj Close',  'NEE'),\n",
      "            ('Adj Close',  'IBM'),\n",
      "            ...\n",
      "            (   'Volume',  'MAS'),\n",
      "            (   'Volume',   'KR'),\n",
      "            (   'Volume',  'ABC'),\n",
      "            (   'Volume', 'AMAT'),\n",
      "            (   'Volume',   'DE'),\n",
      "            (   'Volume',  'UPS'),\n",
      "            (   'Volume',  'LEN'),\n",
      "            (   'Volume',  'WHR'),\n",
      "            (   'Volume', 'ADBE'),\n",
      "            (   'Volume',   'CE')],\n",
      "           names=['Attributes', 'Symbols'], length=300)]\n"
     ]
    }
   ],
   "source": [
    "# Define which online source to use\n",
    "data_source = 'yahoo'\n",
    "\n",
    "# define start and end dates\n",
    "# start_date = '2016-05-20'\n",
    "# start_date = '2018-05-20'\n",
    "start_date = '2011-05-20' #2 NaN's\n",
    "end_date = '2021-05-20'\n",
    "\n",
    "# Use pandas_datareader.data.DataReader to load the desired data list(companies_dict.values()) used for python 3 compatibility\n",
    "panel_data = web.DataReader(list(companies_dict.values()), data_source, start_date, end_date)\n",
    "\n",
    "print(panel_data.axes)"
   ]
  },
  {
   "cell_type": "code",
   "execution_count": 7,
   "metadata": {},
   "outputs": [
    {
     "name": "stdout",
     "output_type": "stream",
     "text": [
      "Symbols\n",
      "AMZN     198.649994\n",
      "AAPL      11.972143\n",
      "WBA       44.369999\n",
      "NOC       64.500000\n",
      "BA        77.519997\n",
      "LMT       79.750000\n",
      "MCD       82.330002\n",
      "INTC      23.219999\n",
      "NEE       14.445000\n",
      "IBM      170.160004\n",
      "TXN       35.000000\n",
      "MA        27.757000\n",
      "MSFT      24.490000\n",
      "GE        18.865385\n",
      "GOOGL    262.277283\n",
      "AXP       51.189999\n",
      "PEP       71.300003\n",
      "KO        34.150002\n",
      "JNJ       65.690002\n",
      "GM        31.180000\n",
      "HCA       34.630001\n",
      "AMGN      60.860001\n",
      "JPM       43.130001\n",
      "NFLX      35.128571\n",
      "UNH       49.740002\n",
      "V         19.557501\n",
      "VMC       40.259998\n",
      "VZ        37.150002\n",
      "LNC       29.209999\n",
      "WM        38.869999\n",
      "TGT       49.689999\n",
      "PLD       35.310001\n",
      "CVX      102.570000\n",
      "PXD       90.940002\n",
      "PGR       21.650000\n",
      "NUE       41.799999\n",
      "TJX       13.155000\n",
      "MMM       93.559998\n",
      "MDT       42.209999\n",
      "LLY       38.439999\n",
      "MAS       12.521969\n",
      "KR        12.485000\n",
      "ABC       41.590000\n",
      "AMAT      14.090000\n",
      "DE        84.750000\n",
      "UPS       74.050003\n",
      "LEN       17.659784\n",
      "WHR       81.959999\n",
      "ADBE      35.310001\n",
      "CE        50.230000\n",
      "Name: 2011-05-20 00:00:00, dtype: float64\n"
     ]
    }
   ],
   "source": [
    "# Find Stock Open and Close Values\n",
    "stock_close = panel_data['Close']\n",
    "stock_open = panel_data['Open']\n",
    "\n",
    "\n",
    "# df=panel_data.dropna()\n",
    "# df=panel_data.isnull()\n",
    "\n",
    "# print(stock_close)\n",
    "print(stock_close.iloc[0])\n",
    "# print(df)"
   ]
  },
  {
   "cell_type": "code",
   "execution_count": 8,
   "metadata": {},
   "outputs": [],
   "source": [
    "# Calculate daily stock movement\n",
    "stock_close = np.array(stock_close).T\n",
    "stock_open = np.array(stock_open).T\n",
    "\n",
    "row, col = stock_close.shape\n",
    "\n",
    "# create movements dataset filled with 0's\n",
    "movements = np.zeros([row, col])\n",
    "\n",
    "for i in range(0, row):\n",
    " movements[i,:] = np.subtract(stock_close[i,:], stock_open[i,:])"
   ]
  },
  {
   "cell_type": "code",
   "execution_count": 9,
   "metadata": {},
   "outputs": [
    {
     "data": {
      "text/plain": [
       "50"
      ]
     },
     "execution_count": 9,
     "metadata": {},
     "output_type": "execute_result"
    }
   ],
   "source": [
    "len(companies)"
   ]
  },
  {
   "cell_type": "code",
   "execution_count": 10,
   "metadata": {},
   "outputs": [
    {
     "data": {
      "text/plain": [
       "array([[ 6.99996948e-01,  6.60003662e-01, -3.72999573e+00, ...,\n",
       "        -6.03000488e+01,  3.68000488e+01,  3.28002930e+00],\n",
       "       [-1.54999733e-01,  1.58213615e-01, -1.18214607e-01, ...,\n",
       "        -1.70999908e+00,  1.52999878e+00,  2.07999420e+00],\n",
       "       [ 2.79998779e-01,  5.00000000e-01, -1.59999847e-01, ...,\n",
       "        -1.00002289e-01,  4.00009155e-02,  3.19999695e-01],\n",
       "       ...,\n",
       "       [-7.50000000e-01, -4.79995728e-01, -4.30000305e-01, ...,\n",
       "        -5.20001221e+00,  2.39999390e+00, -2.89993286e-01],\n",
       "       [-1.49997711e-01, -2.90000916e-01, -4.20001984e-01, ...,\n",
       "        -4.01000977e+00,  7.45001221e+00,  7.99002075e+00],\n",
       "       [-1.39999390e-01, -9.20001984e-01, -9.99984741e-02, ...,\n",
       "        -1.96000671e+00, -3.20007324e-01,  2.40005493e-01]])"
      ]
     },
     "execution_count": 10,
     "metadata": {},
     "output_type": "execute_result"
    }
   ],
   "source": [
    "movements"
   ]
  },
  {
   "cell_type": "code",
   "execution_count": 14,
   "metadata": {},
   "outputs": [],
   "source": [
    "xnys = tc.get_calendar(\"XNYS\")\n",
    "date=xnys.sessions_in_range(\n",
    "     pd.Timestamp(\"2011-05-20\", tz=pytz.UTC),\n",
    "     pd.Timestamp(\"2021-05-20\", tz=pytz.UTC)\n",
    ")"
   ]
  },
  {
   "cell_type": "code",
   "execution_count": 15,
   "metadata": {},
   "outputs": [
    {
     "ename": "NameError",
     "evalue": "name 'df' is not defined",
     "output_type": "error",
     "traceback": [
      "\u001b[0;31m---------------------------------------------------------------------------\u001b[0m",
      "\u001b[0;31mNameError\u001b[0m                                 Traceback (most recent call last)",
      "\u001b[0;32m<ipython-input-15-0513608a8141>\u001b[0m in \u001b[0;36m<module>\u001b[0;34m\u001b[0m\n\u001b[0;32m----> 1\u001b[0;31m \u001b[0mdate\u001b[0m\u001b[0;34m.\u001b[0m\u001b[0mcolumns\u001b[0m\u001b[0;34m=\u001b[0m\u001b[0mdf\u001b[0m\u001b[0;34m.\u001b[0m\u001b[0mcolumns\u001b[0m\u001b[0;34m.\u001b[0m\u001b[0mstr\u001b[0m\u001b[0;34m.\u001b[0m\u001b[0mreplace\u001b[0m\u001b[0;34m(\u001b[0m\u001b[0;34m' 00:00:00+00:00'\u001b[0m\u001b[0;34m,\u001b[0m\u001b[0;34m''\u001b[0m\u001b[0;34m)\u001b[0m\u001b[0;34m\u001b[0m\u001b[0;34m\u001b[0m\u001b[0m\n\u001b[0m\u001b[1;32m      2\u001b[0m \u001b[0mdate\u001b[0m\u001b[0;34m\u001b[0m\u001b[0;34m\u001b[0m\u001b[0m\n",
      "\u001b[0;31mNameError\u001b[0m: name 'df' is not defined"
     ]
    }
   ],
   "source": [
    "date.columns=df.columns.str.replace(' 00:00:00+00:00','')\n",
    "date"
   ]
  },
  {
   "cell_type": "code",
   "execution_count": 32,
   "metadata": {},
   "outputs": [],
   "source": [
    "movements_df= pd.DataFrame(movements, index=companies_dict.keys(), columns=date)\n",
    "movements_df=movements_df.transpose()"
   ]
  },
  {
   "cell_type": "code",
   "execution_count": 33,
   "metadata": {},
   "outputs": [
    {
     "name": "stdout",
     "output_type": "stream",
     "text": [
      "Company: Apple, Change: -1046.0123748779297\n",
      "Company: AmerisourceBergen, Change: 24.76308536529541\n",
      "Company: Adobe Inc., Change: 21.629915237426758\n",
      "Company: Applied Materials Inc., Change: 81.13984680175781\n",
      "Company: Amgen Inc., Change: -132.99021911621094\n",
      "Company: Amazon, Change: 12.1107177734375\n",
      "Company: American Express, Change: 54.710289001464844\n",
      "Company: Boeing, Change: 59.04996109008789\n",
      "Company: Celanese, Change: 38.400031089782715\n",
      "Company: Chevron Corp., Change: 71.77993774414062\n",
      "Company: Deere & Co., Change: 102.24995040893555\n",
      "Company: General Electric, Change: 6.082340240478516\n",
      "Company: General Motors, Change: 85.95986557006836\n",
      "Company: Alphabet Inc. (Class A), Change: -13.99110460281372\n",
      "Company: HCA Healthcare, Change: 595.3433227539062\n",
      "Company: IBM, Change: 30.61023712158203\n",
      "Company: Intel, Change: 72.92019653320312\n",
      "Company: Johnson & Johnson, Change: 9.279953002929688\n",
      "Company: JPMorgan Chase & Co., Change: 43.659942626953125\n",
      "Company: Coca Cola, Change: -45.17009162902832\n",
      "Company: Kroger Co., Change: 89.39994049072266\n",
      "Company: Lennar Corp., Change: 141.03008651733398\n",
      "Company: Lilly (Eli) & Co., Change: 38.78988075256348\n",
      "Company: Lockheed Martin, Change: 105.5566954612732\n",
      "Company: Lincoln National, Change: 145.20963287353516\n",
      "Company: MasterCard, Change: 14.422370910644531\n",
      "Company: Masco Corp., Change: -5.150026321411133\n",
      "Company: McDonalds, Change: 14.48980712890625\n",
      "Company: Medtronic plc, Change: -11.440017700195312\n",
      "Company: 3M Company, Change: 66.21982002258301\n",
      "Company: Microsoft, Change: 32.63031005859375\n",
      "Company: NextEra Energy, Change: 34.73000717163086\n",
      "Company: Netflix Inc., Change: -32.49009704589844\n",
      "Company: Northrop Grumman, Change: -46.179847717285156\n",
      "Company: Nucor Corp., Change: 86.81998634338379\n",
      "Company: Pepsi, Change: -10.169900894165039\n",
      "Company: Progressive Corp., Change: 8.7350492477417\n",
      "Company: Prologis, Change: 68.01020050048828\n",
      "Company: Pioneer Natural Resources, Change: -6.479860305786133\n",
      "Company: Target Corp., Change: 104.75988388061523\n",
      "Company: TJX Companies Inc., Change: 8.301306247711182\n",
      "Company: Texas Instruments, Change: 25.18492889404297\n",
      "Company: UnitedHealth Group Inc., Change: 48.94003677368164\n",
      "Company: United Parcel Service, Change: 4.8799943923950195\n",
      "Company: Visa Inc., Change: 172.08031845092773\n",
      "Company: Vulcan Materials, Change: 79.5600471496582\n",
      "Company: Verizon Communications, Change: -35.369765281677246\n",
      "Company: Walgreen, Change: 57.48038101196289\n",
      "Company: Whirlpool Corp., Change: 75.4401798248291\n",
      "Company: Waste Management Inc., Change: 3.8001651763916016\n"
     ]
    }
   ],
   "source": [
    "for i in range(0, len(companies)):\n",
    " print('Company: {}, Change: {}'.format(companies[i][0], sum(movements[i][:])))\n"
   ]
  },
  {
   "cell_type": "code",
   "execution_count": 34,
   "metadata": {},
   "outputs": [
    {
     "data": {
      "image/png": "[encoded data removed]",
      "text/plain": [
       "<Figure size 1296x1152 with 2 Axes>"
      ]
     },
     "metadata": {
      "needs_background": "light"
     },
     "output_type": "display_data"
    }
   ],
   "source": [
    "plt.figure(figsize=(18,16))\n",
    "ax1 = plt.subplot(221)\n",
    "plt.plot(movements[0][:])\n",
    "plt.title(companies[0])\n",
    "\n",
    "plt.subplot(222, sharey=ax1)\n",
    "plt.plot(movements[1][:])\n",
    "plt.title(companies[1])\n",
    "plt.show()"
   ]
  },
  {
   "cell_type": "code",
   "execution_count": 35,
   "metadata": {},
   "outputs": [
    {
     "name": "stdout",
     "output_type": "stream",
     "text": [
      "0.24926543625608402\n",
      "-0.27746462154229634\n",
      "0.0002144295717577236\n"
     ]
    }
   ],
   "source": [
    "# import Normalizer\n",
    "from sklearn.preprocessing import Normalizer\n",
    "# create the Normalizer\n",
    "normalizer = Normalizer()\n",
    "\n",
    "new = normalizer.fit_transform(movements)\n",
    "\n",
    "print(new.max())\n",
    "print(new.min())\n",
    "print(new.mean())"
   ]
  },
  {
   "cell_type": "code",
   "execution_count": 36,
   "metadata": {},
   "outputs": [],
   "source": [
    "#Calculate average annual percentage return and volatilities over a theoretical one year period\n",
    "\n",
    "#https://pythonforfinance.net/2018/02/08/stock-clusters-using-k-means-algorithm-in-python/\n",
    "\n",
    "\n",
    "# returns = companies.pct_change().mean() * 252\n",
    "# returns = pd.DataFrame(returns)\n",
    "# returns.columns = ['Returns']\n",
    "# returns['Volatility'] = companies.pct_change().std() * sqrt(252)\n",
    "# #format the data as a numpy array to feed into the K-Means algorithm\n",
    "# data = np.asarray([np.asarray(returns['Returns']),np.asarray(returns['Volatility'])]).T\n",
    "# X = data\n",
    "# distorsions = []\n",
    "# for k in range(2, 20):\n",
    "#     k_means = KMeans(n_clusters=k)\n",
    "#     k_means.fit(X)\n",
    "#     distorsions.append(k_means.inertia_)\n",
    "# fig = plt.figure(figsize=(15, 5))\n",
    "# plt.plot(range(2, 20), distorsions)\n",
    "# plt.grid(True)\n",
    "# plt.title('Elbow curve')"
   ]
  },
  {
   "cell_type": "code",
   "execution_count": 37,
   "metadata": {},
   "outputs": [],
   "source": [
    "# import machine learning libraries\n",
    "from sklearn.pipeline import make_pipeline\n",
    "from sklearn.cluster import KMeans\n",
    "\n",
    "# define normalizer\n",
    "normalizer = Normalizer()\n",
    "\n",
    "# create a K-means model with 10 clusters\n",
    "kmeans = KMeans(n_clusters=10, max_iter=1000)\n",
    "\n",
    "# make a pipeline chaining normalizer and kmeans\n",
    "pipeline = make_pipeline(normalizer,kmeans)"
   ]
  },
  {
   "cell_type": "code",
   "execution_count": 38,
   "metadata": {},
   "outputs": [
    {
     "data": {
      "text/plain": [
       "Pipeline(steps=[('normalizer', Normalizer()),\n",
       "                ('kmeans', KMeans(max_iter=1000, n_clusters=10))])"
      ]
     },
     "execution_count": 38,
     "metadata": {},
     "output_type": "execute_result"
    }
   ],
   "source": [
    "# fit pipeline to daily stock movements\n",
    "pipeline.fit(movements)"
   ]
  },
  {
   "cell_type": "code",
   "execution_count": 39,
   "metadata": {},
   "outputs": [
    {
     "name": "stdout",
     "output_type": "stream",
     "text": [
      "21.770373946646025\n"
     ]
    }
   ],
   "source": [
    "# To check how well the algorithm did use print(kmeans.inertia_)\n",
    "#Intertia is a score of how close each cluster is, so a lower inertia score is better. \n",
    "\n",
    "print(kmeans.inertia_)"
   ]
  },
  {
   "cell_type": "code",
   "execution_count": 40,
   "metadata": {},
   "outputs": [
    {
     "name": "stdout",
     "output_type": "stream",
     "text": [
      "    labels                         companies\n",
      "0        0                     (Apple, AAPL)\n",
      "48       0            (Whirlpool Corp., WHR)\n",
      "25       0                  (MasterCard, MA)\n",
      "14       0             (HCA Healthcare, HCA)\n",
      "12       0              (General Motors, GM)\n",
      "11       0            (General Electric, GE)\n",
      "23       0            (Lockheed Martin, LMT)\n",
      "1        0          (AmerisourceBergen, ABC)\n",
      "8        1                    (Celanese, CE)\n",
      "29       1                 (3M Company, MMM)\n",
      "31       1             (NextEra Energy, NEE)\n",
      "27       1                  (McDonalds, MCD)\n",
      "16       1                     (Intel, INTC)\n",
      "17       1          (Johnson & Johnson, JNJ)\n",
      "6        1           (American Express, AXP)\n",
      "30       2                 (Microsoft, MSFT)\n",
      "20       2                  (Kroger Co., KR)\n",
      "36       2          (Progressive Corp., PGR)\n",
      "32       3              (Netflix Inc., NFLX)\n",
      "33       3           (Northrop Grumman, NOC)\n",
      "26       3                (Masco Corp., MAS)\n",
      "28       3              (Medtronic plc, MDT)\n",
      "49       3       (Waste Management Inc., WM)\n",
      "19       3                   (Coca Cola, KO)\n",
      "15       3                        (IBM, IBM)\n",
      "4        3                (Amgen Inc., AMGN)\n",
      "22       3          (Lilly (Eli) & Co., LLY)\n",
      "47       4                   (Walgreen, WBA)\n",
      "46       4      (Verizon Communications, VZ)\n",
      "40       4         (TJX Companies Inc., TJX)\n",
      "13       5  (Alphabet Inc. (Class A), GOOGL)\n",
      "9        5              (Chevron Corp., CVX)\n",
      "45       5           (Vulcan Materials, VMC)\n",
      "44       5                    (Visa Inc., V)\n",
      "35       5                      (Pepsi, PEP)\n",
      "37       5                   (Prologis, PLD)\n",
      "21       6               (Lennar Corp., LEN)\n",
      "39       6               (Target Corp., TGT)\n",
      "24       6           (Lincoln National, LNC)\n",
      "34       6                (Nucor Corp., NUE)\n",
      "18       6       (JPMorgan Chase & Co., JPM)\n",
      "38       6  (Pioneer Natural Resources, PXD)\n",
      "41       7          (Texas Instruments, TXN)\n",
      "42       7    (UnitedHealth Group Inc., UNH)\n",
      "2        7                (Adobe Inc., ADBE)\n",
      "3        8    (Applied Materials Inc., AMAT)\n",
      "5        8                    (Amazon, AMZN)\n",
      "43       9      (United Parcel Service, UPS)\n",
      "7        9                      (Boeing, BA)\n",
      "10       9                 (Deere & Co., DE)\n"
     ]
    }
   ],
   "source": [
    "# predict cluster labels\n",
    "labels = pipeline.predict(movements)\n",
    "\n",
    "# create a DataFrame aligning labels & companies\n",
    "df = pd.DataFrame({'labels': labels, 'companies': companies})\n",
    "\n",
    "# display df sorted by cluster labels\n",
    "print(df.sort_values('labels'))"
   ]
  },
  {
   "cell_type": "code",
   "execution_count": 67,
   "metadata": {},
   "outputs": [
    {
     "name": "stdout",
     "output_type": "stream",
     "text": [
      "    labels                         companies\n",
      "0        0                     (Apple, AAPL)\n",
      "1        0          (AmerisourceBergen, ABC)\n",
      "48       0            (Whirlpool Corp., WHR)\n",
      "23       0            (Lockheed Martin, LMT)\n",
      "14       0             (HCA Healthcare, HCA)\n",
      "12       0              (General Motors, GM)\n",
      "45       1           (Vulcan Materials, VMC)\n",
      "42       1    (UnitedHealth Group Inc., UNH)\n",
      "41       1          (Texas Instruments, TXN)\n",
      "38       1  (Pioneer Natural Resources, PXD)\n",
      "30       1                 (Microsoft, MSFT)\n",
      "24       1           (Lincoln National, LNC)\n",
      "6        1           (American Express, AXP)\n",
      "2        1                (Adobe Inc., ADBE)\n",
      "46       2      (Verizon Communications, VZ)\n",
      "15       2                        (IBM, IBM)\n",
      "44       2                    (Visa Inc., V)\n",
      "4        2                (Amgen Inc., AMGN)\n",
      "20       2                  (Kroger Co., KR)\n",
      "33       2           (Northrop Grumman, NOC)\n",
      "26       2                (Masco Corp., MAS)\n",
      "3        3    (Applied Materials Inc., AMAT)\n",
      "39       3               (Target Corp., TGT)\n",
      "21       3               (Lennar Corp., LEN)\n",
      "5        3                    (Amazon, AMZN)\n",
      "34       3                (Nucor Corp., NUE)\n",
      "31       3             (NextEra Energy, NEE)\n",
      "11       4            (General Electric, GE)\n",
      "10       4                 (Deere & Co., DE)\n",
      "25       4                  (MasterCard, MA)\n",
      "7        4                      (Boeing, BA)\n",
      "8        5                    (Celanese, CE)\n",
      "16       5                     (Intel, INTC)\n",
      "29       6                 (3M Company, MMM)\n",
      "27       6                  (McDonalds, MCD)\n",
      "17       6          (Johnson & Johnson, JNJ)\n",
      "18       6       (JPMorgan Chase & Co., JPM)\n",
      "13       7  (Alphabet Inc. (Class A), GOOGL)\n",
      "28       7              (Medtronic plc, MDT)\n",
      "19       7                   (Coca Cola, KO)\n",
      "35       7                      (Pepsi, PEP)\n",
      "32       7              (Netflix Inc., NFLX)\n",
      "22       7          (Lilly (Eli) & Co., LLY)\n",
      "49       7       (Waste Management Inc., WM)\n",
      "40       8         (TJX Companies Inc., TJX)\n",
      "37       8                   (Prologis, PLD)\n",
      "36       8          (Progressive Corp., PGR)\n",
      "9        8              (Chevron Corp., CVX)\n",
      "47       8                   (Walgreen, WBA)\n",
      "43       9      (United Parcel Service, UPS)\n"
     ]
    }
   ],
   "source": [
    "# PCA\n",
    "from sklearn.decomposition import PCA \n",
    "\n",
    "# visualize the results\n",
    "reduced_data = PCA(n_components = 2).fit_transform(new)\n",
    "\n",
    "# run kmeans on reduced data\n",
    "kmeans = KMeans(n_clusters=10)\n",
    "kmeans.fit(reduced_data)\n",
    "labels = kmeans.predict(reduced_data)\n",
    "\n",
    "# create DataFrame aligning labels & companies\n",
    "df = pd.DataFrame({'labels': labels, 'companies': companies})\n",
    "\n",
    "# Display df sorted by cluster labels\n",
    "sorted_df = df.sort_values('labels')\n",
    "print(df.sort_values('labels'))"
   ]
  },
  {
   "cell_type": "code",
   "execution_count": 42,
   "metadata": {},
   "outputs": [
    {
     "data": {
      "text/plain": [
       "<Figure size 432x288 with 0 Axes>"
      ]
     },
     "metadata": {},
     "output_type": "display_data"
    },
    {
     "data": {
      "image/png": "[encoded data removed]",
      "text/plain": [
       "<Figure size 720x720 with 1 Axes>"
      ]
     },
     "metadata": {
      "needs_background": "light"
     },
     "output_type": "display_data"
    }
   ],
   "source": [
    "# Define step size of mesh\n",
    "h = 0.01\n",
    "\n",
    "# plot the decision boundary\n",
    "x_min, x_max = reduced_data[:, 0].min() - 1, reduced_data[:,0].max() + 1\n",
    "y_min, y_max = reduced_data[:, 1].min() - 1, reduced_data[:,1].max() + 1\n",
    "xx, yy = np.meshgrid(np.arange(x_min, x_max, h), np.arange(y_min, y_max, h))\n",
    "\n",
    "# Obtain abels for each point in the mesh using our trained model\n",
    "Z = kmeans.predict(np.c_[xx.ravel(), yy.ravel()])\n",
    "\n",
    "# Put the result into a color plot\n",
    "Z = Z.reshape(xx.shape)\n",
    "\n",
    "# define colorplot\n",
    "cmap = plt.cm.Paired\n",
    "\n",
    "# plot figure\n",
    "plt.clf()\n",
    "plt.figure(figsize=(10,10))\n",
    "plt.imshow(Z, interpolation='nearest',\n",
    " extent = (xx.min(), xx.max(), yy.min(), yy.max()),\n",
    " cmap = cmap,\n",
    " aspect = 'auto', origin='lower')\n",
    "plt.plot(reduced_data[:, 0], reduced_data[:, 1], 'k.', markersize=5)\n",
    "\n",
    "\n",
    "# plot the centroid of each cluster as a white X\n",
    "centroids = kmeans.cluster_centers_\n",
    "plt.scatter(centroids[:, 0], centroids[:, 1],\n",
    " marker='x', s=169, linewidth=3,\n",
    " color='w', zorder=10)\n",
    "\n",
    "plt.title('K-Means Clustering on Stock Market Movements (PCA-Reduced Data)')\n",
    "plt.xlim(x_min, x_max)\n",
    "plt.ylim(y_min, y_max)\n",
    "# fig.savefig('static/charts/cluster_notebook.png')\n",
    "plt.show()"
   ]
  },
  {
   "cell_type": "code",
   "execution_count": 104,
   "metadata": {},
   "outputs": [
    {
     "data": {
      "image/png": "[encoded data removed]",
      "text/plain": [
       "<Figure size 432x288 with 1 Axes>"
      ]
     },
     "metadata": {
      "needs_background": "light"
     },
     "output_type": "display_data"
    }
   ],
   "source": [
    "fig, ax=plt.subplots()\n",
    "plt.plot(date, movements_df[\"Amazon\"])\n",
    "plt.xlabel(\"Date\")\n",
    "plt.ylabel(\"Movements\")\n",
    "plt.title(\"Amazon Stock Movement\")\n",
    "fig.savefig('static/charts/cluster_move_one.png')\n",
    "# plt.show()"
   ]
  },
  {
   "cell_type": "code",
   "execution_count": 105,
   "metadata": {},
   "outputs": [
    {
     "data": {
      "image/png": "[encoded data removed]",
      "text/plain": [
       "<Figure size 432x288 with 1 Axes>"
      ]
     },
     "metadata": {
      "needs_background": "light"
     },
     "output_type": "display_data"
    }
   ],
   "source": [
    "# len(movements_df.columns)\n",
    "for x in movements_df.columns:\n",
    "    plt.plot(date, movements_df[x])\n",
    "    plt.xlabel(\"Date\")\n",
    "    plt.ylabel(\"Movements\")\n",
    "    plt.title(\"All Stock Movement\")\n",
    "    fig.savefig('static/charts/cluster_all.png')\n",
    "    "
   ]
  },
  {
   "cell_type": "code",
   "execution_count": 88,
   "metadata": {},
   "outputs": [
    {
     "ename": "TypeError",
     "evalue": "'expand' is an invalid keyword argument for split()",
     "output_type": "error",
     "traceback": [
      "\u001b[0;31m---------------------------------------------------------------------------\u001b[0m",
      "\u001b[0;31mTypeError\u001b[0m                                 Traceback (most recent call last)",
      "\u001b[0;32m<ipython-input-88-238c8e9ff448>\u001b[0m in \u001b[0;36m<module>\u001b[0;34m\u001b[0m\n\u001b[1;32m      2\u001b[0m \u001b[0;31m# sorted_df[[\"labels\",\"companies\", \"symbol\"]]=sorted_df.companies.str.split(\",\", expand =True,)\u001b[0m\u001b[0;34m\u001b[0m\u001b[0;34m\u001b[0m\u001b[0;34m\u001b[0m\u001b[0m\n\u001b[1;32m      3\u001b[0m \u001b[0;31m# merged_df = pd.merge(movements_df, sorted_df, on = companies)\u001b[0m\u001b[0;34m\u001b[0m\u001b[0;34m\u001b[0m\u001b[0;34m\u001b[0m\u001b[0m\n\u001b[0;32m----> 4\u001b[0;31m \u001b[0mstr\u001b[0m\u001b[0;34m(\u001b[0m\u001b[0msorted_df\u001b[0m\u001b[0;34m[\u001b[0m\u001b[0;34m'companies'\u001b[0m\u001b[0;34m]\u001b[0m\u001b[0;34m[\u001b[0m\u001b[0;34m:\u001b[0m\u001b[0;36m1\u001b[0m\u001b[0;34m]\u001b[0m\u001b[0;34m)\u001b[0m\u001b[0;34m.\u001b[0m\u001b[0msplit\u001b[0m\u001b[0;34m(\u001b[0m\u001b[0;34m','\u001b[0m\u001b[0;34m,\u001b[0m \u001b[0mexpand\u001b[0m \u001b[0;34m=\u001b[0m \u001b[0;32mTrue\u001b[0m\u001b[0;34m)\u001b[0m\u001b[0;34m\u001b[0m\u001b[0;34m\u001b[0m\u001b[0m\n\u001b[0m",
      "\u001b[0;31mTypeError\u001b[0m: 'expand' is an invalid keyword argument for split()"
     ]
    }
   ],
   "source": [
    "# sorted_df.companies.str.split(expand = True)\n",
    "# sorted_df[[\"labels\",\"companies\", \"symbol\"]]=sorted_df.companies.str.split(\",\", expand =True,)\n",
    "# merged_df = pd.merge(movements_df, sorted_df, on = companies)\n",
    "str(sorted_df['companies'][:1]).split(',', expand = True)"
   ]
  },
  {
   "cell_type": "code",
   "execution_count": 84,
   "metadata": {},
   "outputs": [
    {
     "ename": "AttributeError",
     "evalue": "Can only use .str accessor with string values!",
     "output_type": "error",
     "traceback": [
      "\u001b[0;31m---------------------------------------------------------------------------\u001b[0m",
      "\u001b[0;31mAttributeError\u001b[0m                            Traceback (most recent call last)",
      "\u001b[0;32m<ipython-input-84-fe6c9e15dba8>\u001b[0m in \u001b[0;36m<module>\u001b[0;34m\u001b[0m\n\u001b[0;32m----> 1\u001b[0;31m \u001b[0msorted_df\u001b[0m\u001b[0;34m[\u001b[0m\u001b[0;34m\"companies\"\u001b[0m\u001b[0;34m]\u001b[0m\u001b[0;34m=\u001b[0m \u001b[0msorted_df\u001b[0m\u001b[0;34m[\u001b[0m\u001b[0;34m'companies'\u001b[0m\u001b[0;34m]\u001b[0m\u001b[0;34m.\u001b[0m\u001b[0mstr\u001b[0m\u001b[0;34m.\u001b[0m\u001b[0msplit\u001b[0m\u001b[0;34m(\u001b[0m\u001b[0;34m\",\"\u001b[0m\u001b[0;34m)\u001b[0m\u001b[0;34m.\u001b[0m\u001b[0mstr\u001b[0m\u001b[0;34m[\u001b[0m\u001b[0;34m:\u001b[0m\u001b[0;36m3\u001b[0m\u001b[0;34m]\u001b[0m\u001b[0;34m\u001b[0m\u001b[0;34m\u001b[0m\u001b[0m\n\u001b[0m",
      "\u001b[0;32m/opt/anaconda3/lib/python3.8/site-packages/pandas/core/generic.py\u001b[0m in \u001b[0;36m__getattr__\u001b[0;34m(self, name)\u001b[0m\n\u001b[1;32m   5268\u001b[0m             \u001b[0;32mor\u001b[0m \u001b[0mname\u001b[0m \u001b[0;32min\u001b[0m \u001b[0mself\u001b[0m\u001b[0;34m.\u001b[0m\u001b[0m_accessors\u001b[0m\u001b[0;34m\u001b[0m\u001b[0;34m\u001b[0m\u001b[0m\n\u001b[1;32m   5269\u001b[0m         ):\n\u001b[0;32m-> 5270\u001b[0;31m             \u001b[0;32mreturn\u001b[0m \u001b[0mobject\u001b[0m\u001b[0;34m.\u001b[0m\u001b[0m__getattribute__\u001b[0m\u001b[0;34m(\u001b[0m\u001b[0mself\u001b[0m\u001b[0;34m,\u001b[0m \u001b[0mname\u001b[0m\u001b[0;34m)\u001b[0m\u001b[0;34m\u001b[0m\u001b[0;34m\u001b[0m\u001b[0m\n\u001b[0m\u001b[1;32m   5271\u001b[0m         \u001b[0;32melse\u001b[0m\u001b[0;34m:\u001b[0m\u001b[0;34m\u001b[0m\u001b[0;34m\u001b[0m\u001b[0m\n\u001b[1;32m   5272\u001b[0m             \u001b[0;32mif\u001b[0m \u001b[0mself\u001b[0m\u001b[0;34m.\u001b[0m\u001b[0m_info_axis\u001b[0m\u001b[0;34m.\u001b[0m\u001b[0m_can_hold_identifiers_and_holds_name\u001b[0m\u001b[0;34m(\u001b[0m\u001b[0mname\u001b[0m\u001b[0;34m)\u001b[0m\u001b[0;34m:\u001b[0m\u001b[0;34m\u001b[0m\u001b[0;34m\u001b[0m\u001b[0m\n",
      "\u001b[0;32m/opt/anaconda3/lib/python3.8/site-packages/pandas/core/accessor.py\u001b[0m in \u001b[0;36m__get__\u001b[0;34m(self, obj, cls)\u001b[0m\n\u001b[1;32m    185\u001b[0m             \u001b[0;31m# we're accessing the attribute of the class, i.e., Dataset.geo\u001b[0m\u001b[0;34m\u001b[0m\u001b[0;34m\u001b[0m\u001b[0;34m\u001b[0m\u001b[0m\n\u001b[1;32m    186\u001b[0m             \u001b[0;32mreturn\u001b[0m \u001b[0mself\u001b[0m\u001b[0;34m.\u001b[0m\u001b[0m_accessor\u001b[0m\u001b[0;34m\u001b[0m\u001b[0;34m\u001b[0m\u001b[0m\n\u001b[0;32m--> 187\u001b[0;31m         \u001b[0maccessor_obj\u001b[0m \u001b[0;34m=\u001b[0m \u001b[0mself\u001b[0m\u001b[0;34m.\u001b[0m\u001b[0m_accessor\u001b[0m\u001b[0;34m(\u001b[0m\u001b[0mobj\u001b[0m\u001b[0;34m)\u001b[0m\u001b[0;34m\u001b[0m\u001b[0;34m\u001b[0m\u001b[0m\n\u001b[0m\u001b[1;32m    188\u001b[0m         \u001b[0;31m# Replace the property with the accessor object. Inspired by:\u001b[0m\u001b[0;34m\u001b[0m\u001b[0;34m\u001b[0m\u001b[0;34m\u001b[0m\u001b[0m\n\u001b[1;32m    189\u001b[0m         \u001b[0;31m# http://www.pydanny.com/cached-property.html\u001b[0m\u001b[0;34m\u001b[0m\u001b[0;34m\u001b[0m\u001b[0;34m\u001b[0m\u001b[0m\n",
      "\u001b[0;32m/opt/anaconda3/lib/python3.8/site-packages/pandas/core/strings.py\u001b[0m in \u001b[0;36m__init__\u001b[0;34m(self, data)\u001b[0m\n\u001b[1;32m   2039\u001b[0m \u001b[0;34m\u001b[0m\u001b[0m\n\u001b[1;32m   2040\u001b[0m     \u001b[0;32mdef\u001b[0m \u001b[0m__init__\u001b[0m\u001b[0;34m(\u001b[0m\u001b[0mself\u001b[0m\u001b[0;34m,\u001b[0m \u001b[0mdata\u001b[0m\u001b[0;34m)\u001b[0m\u001b[0;34m:\u001b[0m\u001b[0;34m\u001b[0m\u001b[0;34m\u001b[0m\u001b[0m\n\u001b[0;32m-> 2041\u001b[0;31m         \u001b[0mself\u001b[0m\u001b[0;34m.\u001b[0m\u001b[0m_inferred_dtype\u001b[0m \u001b[0;34m=\u001b[0m \u001b[0mself\u001b[0m\u001b[0;34m.\u001b[0m\u001b[0m_validate\u001b[0m\u001b[0;34m(\u001b[0m\u001b[0mdata\u001b[0m\u001b[0;34m)\u001b[0m\u001b[0;34m\u001b[0m\u001b[0;34m\u001b[0m\u001b[0m\n\u001b[0m\u001b[1;32m   2042\u001b[0m         \u001b[0mself\u001b[0m\u001b[0;34m.\u001b[0m\u001b[0m_is_categorical\u001b[0m \u001b[0;34m=\u001b[0m \u001b[0mis_categorical_dtype\u001b[0m\u001b[0;34m(\u001b[0m\u001b[0mdata\u001b[0m\u001b[0;34m)\u001b[0m\u001b[0;34m\u001b[0m\u001b[0;34m\u001b[0m\u001b[0m\n\u001b[1;32m   2043\u001b[0m         \u001b[0mself\u001b[0m\u001b[0;34m.\u001b[0m\u001b[0m_is_string\u001b[0m \u001b[0;34m=\u001b[0m \u001b[0mdata\u001b[0m\u001b[0;34m.\u001b[0m\u001b[0mdtype\u001b[0m\u001b[0;34m.\u001b[0m\u001b[0mname\u001b[0m \u001b[0;34m==\u001b[0m \u001b[0;34m\"string\"\u001b[0m\u001b[0;34m\u001b[0m\u001b[0;34m\u001b[0m\u001b[0m\n",
      "\u001b[0;32m/opt/anaconda3/lib/python3.8/site-packages/pandas/core/strings.py\u001b[0m in \u001b[0;36m_validate\u001b[0;34m(data)\u001b[0m\n\u001b[1;32m   2096\u001b[0m \u001b[0;34m\u001b[0m\u001b[0m\n\u001b[1;32m   2097\u001b[0m         \u001b[0;32mif\u001b[0m \u001b[0minferred_dtype\u001b[0m \u001b[0;32mnot\u001b[0m \u001b[0;32min\u001b[0m \u001b[0mallowed_types\u001b[0m\u001b[0;34m:\u001b[0m\u001b[0;34m\u001b[0m\u001b[0;34m\u001b[0m\u001b[0m\n\u001b[0;32m-> 2098\u001b[0;31m             \u001b[0;32mraise\u001b[0m \u001b[0mAttributeError\u001b[0m\u001b[0;34m(\u001b[0m\u001b[0;34m\"Can only use .str accessor with string values!\"\u001b[0m\u001b[0;34m)\u001b[0m\u001b[0;34m\u001b[0m\u001b[0;34m\u001b[0m\u001b[0m\n\u001b[0m\u001b[1;32m   2099\u001b[0m         \u001b[0;32mreturn\u001b[0m \u001b[0minferred_dtype\u001b[0m\u001b[0;34m\u001b[0m\u001b[0;34m\u001b[0m\u001b[0m\n\u001b[1;32m   2100\u001b[0m \u001b[0;34m\u001b[0m\u001b[0m\n",
      "\u001b[0;31mAttributeError\u001b[0m: Can only use .str accessor with string values!"
     ]
    }
   ],
   "source": [
    "sorted_df[\"companies\"]= sorted_df['companies'].str.split(\",\").str[:3]"
   ]
  },
  {
   "cell_type": "code",
   "execution_count": null,
   "metadata": {},
   "outputs": [],
   "source": [
    "# pd.concat([sorted_df['companies'](row['var2'], row['var1'].split(','))              \n",
    "#            for _, row in a.iterrows()]).reset_index()\n"
   ]
  }
 ],
 "metadata": {
  "kernelspec": {
   "display_name": "Python 3",
   "language": "python",
   "name": "python3"
  },
  "language_info": {
   "codemirror_mode": {
    "name": "ipython",
    "version": 3
   },
   "file_extension": ".py",
   "mimetype": "text/x-python",
   "name": "python",
   "nbconvert_exporter": "python",
   "pygments_lexer": "ipython3",
   "version": "3.8.3"
  }
 },
 "nbformat": 4,
 "nbformat_minor": 4
}
